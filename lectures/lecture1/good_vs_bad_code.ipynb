{
 "cells": [
  {
   "cell_type": "markdown",
   "metadata": {},
   "source": [
    "# This notebook demonstrates \"good\" and \"bad\" code\n",
    "Notebook for TFCB 2018.\n",
    "Website for first lecture is [here](https://github.com/rasilab/tfcb_2018/tree/master/lectures/lecture1).\n",
    "\n",
    "## Bad computer code\n",
    "Bad code is:\n",
    "\n",
    " - Unclear\n",
    " - Repeats the same thing (i.e., you are copying the same code to many places)\n",
    " - defines the same piece of information multiple times\n",
    " - names don't have clear meanings\n",
    " \n",
    "Write a \"bad program\" to get the reverse complement of a DNA sequence."
   ]
  },
  {
   "cell_type": "code",
   "execution_count": 4,
   "metadata": {},
   "outputs": [
    {
     "name": "stdout",
     "output_type": "stream",
     "text": [
      "AGA\n",
      "CT\n"
     ]
    }
   ],
   "source": [
    "x = 'AG'\n",
    "xx = ''\n",
    "if x[1] == 'A':\n",
    "    xx += 'T'\n",
    "elif x[1] == 'T':\n",
    "    xx += 'A'\n",
    "elif x[1] == 'C':\n",
    "    xx += 'G'\n",
    "elif x[1] == 'G':\n",
    "    xx += 'C'\n",
    "if x[0] == 'A':\n",
    "    xx += 'T'\n",
    "elif x[1] == 'T':\n",
    "    xx += 'A'\n",
    "elif x[0] == 'C':\n",
    "    xx += 'G'\n",
    "elif x[0] == 'G':\n",
    "    xx += 'C'\n",
    "    \n",
    "print(x)\n",
    "print(xx)"
   ]
  },
  {
   "cell_type": "markdown",
   "metadata": {},
   "source": [
    "## Good code\n",
    "Variables have meaningful names.\n",
    "\n",
    "The same thing isn't repeated.\n",
    "\n",
    "Hopefully you can just look at code and understand what it does."
   ]
  },
  {
   "cell_type": "code",
   "execution_count": 11,
   "metadata": {},
   "outputs": [
    {
     "name": "stdout",
     "output_type": "stream",
     "text": [
      "AG\n",
      "CT\n"
     ]
    }
   ],
   "source": [
    "def reverseComplement(gene):\n",
    "    \"\"\"Returns reverse complement of `gene`\"\"\"\n",
    "    gene_rc = ''\n",
    "    for nt in gene:\n",
    "        gene_rc += {'A':'T', 'T':'A', 'C':'G', 'G':'C'}[nt]\n",
    "    gene_rc = ''.join(reversed(list(gene_rc)))\n",
    "    return gene_rc\n",
    "\n",
    "gene = 'AG'\n",
    "print(gene)\n",
    "print(reverseComplement(gene))"
   ]
  },
  {
   "cell_type": "code",
   "execution_count": null,
   "metadata": {},
   "outputs": [],
   "source": []
  }
 ],
 "metadata": {
  "kernelspec": {
   "display_name": "Python 3",
   "language": "python",
   "name": "python3"
  },
  "language_info": {
   "codemirror_mode": {
    "name": "ipython",
    "version": 3
   },
   "file_extension": ".py",
   "mimetype": "text/x-python",
   "name": "python",
   "nbconvert_exporter": "python",
   "pygments_lexer": "ipython3",
   "version": "3.6.5"
  },
  "toc": {
   "nav_menu": {},
   "number_sections": true,
   "sideBar": true,
   "skip_h1_title": false,
   "toc_cell": false,
   "toc_position": {},
   "toc_section_display": "block",
   "toc_window_display": false
  }
 },
 "nbformat": 4,
 "nbformat_minor": 2
}
